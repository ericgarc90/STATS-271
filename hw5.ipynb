{
 "cells": [
  {
   "cell_type": "markdown",
   "metadata": {
    "id": "IoYdLutn7dUa"
   },
   "source": [
    "# HW5: Topic Models and LDA\n",
    "\n",
    "\n",
    "**STATS271/371: Applied Bayesian Statistics**\n",
    "\n",
    "_Stanford University. Spring, 2021._\n",
    "\n",
    "---\n",
    "\n",
    "**Name:** Eric Weiner\n",
    "\n",
    "**Names of any collaborators:** _Names here_\n",
    "\n",
    "*Due: 11:59pm Monday, May 10, 2021 via GradeScope*\n",
    "\n",
    "---\n",
    "\n",
    "Recall the following generative model for LDA. Suppose we have $K$ topics and $N$ documents.\n",
    "\n",
    "For each topic $k \\leq K$, draw a topic \n",
    "$$\\eta_k \\sim \\text{Dir}(\\phi)$$\n",
    "\n",
    "Then, for each document $n \\leq N$, draw topic proportions \n",
    "$$\\pi_n \\sim \\text{Dir}(\\alpha)$$\n",
    "\n",
    "Finally, for each word $l$ in document $n$, first draw a topic assignment \n",
    "$$\n",
    "z_{n,l} \\mid \\pi_n \\sim \\text{Cat}(\\pi_n)\n",
    "$$\n",
    "and draw a word\n",
    "$$\n",
    "x_{n,l} \\mid z_{n,l} \\sim \\text{Cat}(z_{n,l})\n",
    "$$\n",
    "\n",
    "As mentioned in class, while this formulation is easier to present, it's more efficient to represent the documents as sparse vectors of _word counts_, $\\mathbf{y}_n \\in \\mathbb{N}^V$ where $y_{n,v} = \\sum_{l=1}^L \\mathbb{I}[x_{n,l} = v]$. \n",
    "\n",
    "In this assignment, we will be re-exploring the Federalist papers in their entirety. We've provided a $N \\times V$ dataframe of the essays represented as word counts. The rows of the data frame correspond to the 85 individual essays and the columns correspond to the 5320 words in the vocabulary. We have already preprocessed the raw essays to remove very common and very infrequent words.\n",
    "\n",
    "Using this data, we will fit a topic model and do some analysis."
   ]
  },
  {
   "cell_type": "code",
   "execution_count": 8,
   "metadata": {},
   "outputs": [
    {
     "data": {
      "text/plain": [
       "numpy.float64"
      ]
     },
     "execution_count": 8,
     "metadata": {},
     "output_type": "execute_result"
    }
   ],
   "source": [
    "import pandas as pd \n",
    "\n",
    "# Load the data\n",
    "df = pd.read_csv('/Users/ericgarc/Desktop/Stanford/Spring 2021/STATS 271/HW 5/tokenized_fed.csv', index_col = 0)\n",
    "type(df['unequivocal'][0])"
   ]
  },
  {
   "cell_type": "code",
   "execution_count": null,
   "metadata": {},
   "outputs": [],
   "source": []
  },
  {
   "cell_type": "markdown",
   "metadata": {},
   "source": [
    "## Problem 1: Fit LDA on this data set.\n",
    "\n",
    "Fit a 10 topic LDA on the data using CAVI. For each topic, output the top 5 words. You might find the structure in the [Poisson matrix factorization notebook](https://github.com/slinderman/stats271sp2021/blob/main/notebooks/Lap_5_Poisson_MF.ipynb) helpful. (Note that that notebook used the JAX backend available in the `tfp-nightly` package, but you could have used the regular [TensorFlow Probability](tensorflow.org/probability/api_docs/python/tfp) package instead. The nice thing about TFP is that its functions broadcast nicely, which is helpful when we have lots of factors in the mean field variational posterior."
   ]
  },
  {
   "cell_type": "code",
   "execution_count": 363,
   "metadata": {},
   "outputs": [],
   "source": [
    "import numpy as onp\n",
    "import pandas as pd\n",
    "import matplotlib.pyplot as plt\n",
    "from tqdm.auto import trange\n",
    "\n",
    "from jax import jit\n",
    "import jax.numpy as np\n",
    "import jax.scipy.special as spsp\n",
    "import jax.random as jr\n",
    "\n",
    "import tensorflow_probability as tfp\n",
    "import tensorflow_probability.substrates.jax.distributions as tfd\n",
    "\n",
    "from numpy.random import seed\n",
    "from numpy.random import rand\n",
    "\n",
    "import tensorflow as tf"
   ]
  },
  {
   "cell_type": "code",
   "execution_count": 370,
   "metadata": {},
   "outputs": [],
   "source": [
    "#df = df.to_numpy()\n",
    "\n",
    "\n",
    "def dir_exp_log(dirichlet):\n",
    "        return np.asarray(np.exp(spsp.digamma(np.asarray(dirichlet.concentration)) - \\\n",
    "                                 spsp.digamma(np.sum(np.asarray(dirichlet.concentration)))))\n",
    "    \n",
    "def cavi_step(q_pi, q_eta):\n",
    "    \n",
    "    def assignment_lambdas(pis, etas):\n",
    "            update_lambdas = dir_exp_log(pis)[:, None, :] +  dir_exp_log(etas)\n",
    "            return update_lambdas \n",
    "\n",
    "    def pi_lambdas(qz):\n",
    "            #full_array = data@np.asarray(qz.probs_parameter())\n",
    "            #diag_arr = np.diagonal(full_array, axis1 = 0, axis2 = 1).T\n",
    "            new = qz.mean().sum(axis =1)\n",
    "            return alphas + new\n",
    "\n",
    "    #print(type(pi_lambdas()    \n",
    "    def eta_lambdas(qz):\n",
    "            #matrix_to_use = np.reshape(np.asarray(qz.probs_parameter()),(5320,85,10))\n",
    "            #full_array = data.T@matrix_to_use\n",
    "            #diag_arr = np.diagonal(full_array, axis1 = 0, axis2 = 1).T\n",
    "            new = qz.mean().sum(axis =0)\n",
    "            return phis + new\n",
    "    \n",
    "    #print(type(df))\n",
    "    #print(type(assignment_lambdas(q_pi, q_eta)))\n",
    "    \n",
    "    q_z = tfd.Multinomial(df, probs = assignment_lambdas(q_pi,q_eta))\n",
    "    \n",
    "    new_pi_lambdas = pi_lambdas(q_z)\n",
    "    q_pi = tfd.Dirichlet(new_pi_lambdas)\n",
    "\n",
    "    new_eta_lambdas = eta_lambdas(q_z)\n",
    "    q_eta = tfd.Dirichlet(new_eta_lambdas)\n",
    "        \n",
    "    return q_z, q_pi, q_eta  \n",
    "\n",
    "def elbo(q_z, q_pi, q_eta):\n",
    "\n",
    "    elbo = 0\n",
    "    div_pi = q_pi.kl_divergence(q_pi_prior).sum()\n",
    "    elbo -= div_pi\n",
    "    #print(f\"the div pi is: {div_pi}\")\n",
    "    div_eta = q_eta.kl_divergence(q_eta_prior).sum()\n",
    "    elbo -= div_eta\n",
    "    #print(f\"the div eta is: {div_eta}\")\n",
    "    mid_term_1 = (q_z.probs_parameter()*dir_exp_log(q_pi)[:,None,:]).sum()\n",
    "    elbo += mid_term_1\n",
    "    #print(f\"the mid term 1 is: {mid_term_1}\")\n",
    "    mid_term_2 = (q_z.probs_parameter()*dir_exp_log(q_eta)[None,:,:]).sum()\n",
    "    #print(f\"the mid term 2 is: {mid_term_2}\")\n",
    "    elbo += mid_term_2\n",
    "    last_term = (q_z.mean()*np.log(q_z.probs_parameter())).sum()\n",
    "   \n",
    "    #print(f\"the last term is: {last_term}\")\n",
    "   \n",
    "    elbo -= last_term\n",
    "    #elbo -= (q_z.mean()*np.log(q_z.probs_parameter())).sum()\n",
    "    return elbo/np.sum(df) \n"
   ]
  },
  {
   "cell_type": "code",
   "execution_count": 371,
   "metadata": {},
   "outputs": [
    {
     "data": {
      "application/vnd.jupyter.widget-view+json": {
       "model_id": "4b8d7851fbff4d56aedc7bad44f5d8d7",
       "version_major": 2,
       "version_minor": 0
      },
      "text/plain": [
       "HBox(children=(FloatProgress(value=0.0), HTML(value='')))"
      ]
     },
     "metadata": {},
     "output_type": "display_data"
    },
    {
     "name": "stdout",
     "output_type": "stream",
     "text": [
      "\n"
     ]
    },
    {
     "data": {
      "text/plain": [
       "[<matplotlib.lines.Line2D at 0x7fea88b9b670>]"
      ]
     },
     "execution_count": 371,
     "metadata": {},
     "output_type": "execute_result"
    },
    {
     "data": {
      "image/png": "[encoded data removed]",
      "text/plain": [
       "<Figure size 432x288 with 1 Axes>"
      ]
     },
     "metadata": {
      "needs_background": "light"
     },
     "output_type": "display_data"
    }
   ],
   "source": [
    "### CAVI DO NOT DELETE\n",
    "def cavi(data, num_iters):\n",
    "    data = data.astype(onp.float32)\n",
    "    N = 85\n",
    "    V = 5320\n",
    "    K = 10\n",
    "    \n",
    "    alphas = np.ones((N, K))\n",
    "    phis = np.ones((V, K))\n",
    "    \n",
    "    data = data.astype(np.float32)\n",
    "\n",
    "\n",
    "    q_pi_prior = tfd.Dirichlet(alphas)\n",
    "    random_alphas = np.multiply(np.reshape(rand(N*K),(N,K)), alphas)\n",
    "    q_pi = tfd.Dirichlet(random_alphas)\n",
    "    \n",
    "    q_eta_prior = tfd.Dirichlet(phis)\n",
    "    random_phis = np.multiply(np.reshape(rand(V*K),(V,K)), phis)\n",
    "    q_eta = tfd.Dirichlet(random_phis)\n",
    "    \n",
    "    elbos = []\n",
    "    for itr in trange(num_iters):\n",
    "        q_z, q_pi, q_eta = cavi_step(q_pi, q_eta)\n",
    "        elbo_iter =  elbo(q_z, q_pi, q_eta)\n",
    "        elbos.append(elbo_iter)\n",
    "    return np.asarray(elbos), (q_z, q_pi, q_eta)\n",
    "\n",
    "\n",
    "elbos_graphing, approxes = cavi(df, 100)\n",
    "plt.plot(elbos_graphing)\n"
   ]
  },
  {
   "cell_type": "code",
   "execution_count": 431,
   "metadata": {},
   "outputs": [
    {
     "name": "stdout",
     "output_type": "stream",
     "text": [
      "The 5 th highest word in topic 1 is Index(['oppress'], dtype='object')\n",
      "The 4 th highest word in topic 1 is Index(['divisions'], dtype='object')\n",
      "The 3 th highest word in topic 1 is Index(['creation'], dtype='object')\n",
      "The 2 th highest word in topic 1 is Index(['peremptory'], dtype='object')\n",
      "The 1 th highest word in topic 1 is Index(['pristine'], dtype='object')\n",
      "The 5 th highest word in topic 2 is Index(['phantom'], dtype='object')\n",
      "The 4 th highest word in topic 2 is Index(['future'], dtype='object')\n",
      "The 3 th highest word in topic 2 is Index(['paramount'], dtype='object')\n",
      "The 2 th highest word in topic 2 is Index(['overlooked'], dtype='object')\n",
      "The 1 th highest word in topic 2 is Index(['manufacturing'], dtype='object')\n",
      "The 5 th highest word in topic 3 is Index(['overlooked'], dtype='object')\n",
      "The 4 th highest word in topic 3 is Index(['succor'], dtype='object')\n",
      "The 3 th highest word in topic 3 is Index(['deserves'], dtype='object')\n",
      "The 2 th highest word in topic 3 is Index(['insignificance'], dtype='object')\n",
      "The 1 th highest word in topic 3 is Index(['commanded'], dtype='object')\n",
      "The 5 th highest word in topic 4 is Index(['invasion'], dtype='object')\n",
      "The 4 th highest word in topic 4 is Index(['fell'], dtype='object')\n",
      "The 3 th highest word in topic 4 is Index(['recommends'], dtype='object')\n",
      "The 2 th highest word in topic 4 is Index(['conquered'], dtype='object')\n",
      "The 1 th highest word in topic 4 is Index(['gained'], dtype='object')\n",
      "The 5 th highest word in topic 5 is Index(['litigation'], dtype='object')\n",
      "The 4 th highest word in topic 5 is Index(['frequent'], dtype='object')\n",
      "The 3 th highest word in topic 5 is Index(['succeeded'], dtype='object')\n",
      "The 2 th highest word in topic 5 is Index(['done'], dtype='object')\n",
      "The 1 th highest word in topic 5 is Index(['adversary'], dtype='object')\n",
      "The 5 th highest word in topic 6 is Index(['parts'], dtype='object')\n",
      "The 4 th highest word in topic 6 is Index(['service'], dtype='object')\n",
      "The 3 th highest word in topic 6 is Index(['avoiding'], dtype='object')\n",
      "The 2 th highest word in topic 6 is Index(['delineated'], dtype='object')\n",
      "The 1 th highest word in topic 6 is Index(['regretted'], dtype='object')\n",
      "The 5 th highest word in topic 7 is Index(['silver'], dtype='object')\n",
      "The 4 th highest word in topic 7 is Index(['requisite'], dtype='object')\n",
      "The 3 th highest word in topic 7 is Index(['prone'], dtype='object')\n",
      "The 2 th highest word in topic 7 is Index(['remedy'], dtype='object')\n",
      "The 1 th highest word in topic 7 is Index(['guided'], dtype='object')\n",
      "The 5 th highest word in topic 8 is Index(['points'], dtype='object')\n",
      "The 4 th highest word in topic 8 is Index(['propositions'], dtype='object')\n",
      "The 3 th highest word in topic 8 is Index(['admitted'], dtype='object')\n",
      "The 2 th highest word in topic 8 is Index(['pretend'], dtype='object')\n",
      "The 1 th highest word in topic 8 is Index(['reverse'], dtype='object')\n",
      "The 5 th highest word in topic 9 is Index(['tell'], dtype='object')\n",
      "The 4 th highest word in topic 9 is Index(['apartment'], dtype='object')\n",
      "The 3 th highest word in topic 9 is Index(['disadvantage'], dtype='object')\n",
      "The 2 th highest word in topic 9 is Index(['declarations'], dtype='object')\n",
      "The 1 th highest word in topic 9 is Index(['allowed'], dtype='object')\n",
      "The 5 th highest word in topic 10 is Index(['requisites'], dtype='object')\n",
      "The 4 th highest word in topic 10 is Index(['deceived'], dtype='object')\n",
      "The 3 th highest word in topic 10 is Index(['entitle'], dtype='object')\n",
      "The 2 th highest word in topic 10 is Index(['unavoidable'], dtype='object')\n",
      "The 1 th highest word in topic 10 is Index(['apprehensive'], dtype='object')\n"
     ]
    }
   ],
   "source": [
    "df_to_map = pd.read_csv('/Users/ericgarc/Desktop/Stanford/Spring 2021/STATS 271/HW 5/tokenized_fed.csv', index_col = 0)\n",
    "\n",
    "def top_words(t):\n",
    "    maxes = np.sort(q_eta.concentration[:,t], axis = 0)[-5:]\n",
    "    indeces = []\n",
    "    for i in range(5):\n",
    "        index = np.where(q_eta.concentration[:,t] == maxes[i])\n",
    "        indeces.append(np.asarray(index))\n",
    "    \n",
    "    for i in range(len(np.asarray(indeces))):\n",
    "        print(f\"The {5-i} th highest word in topic {t+1} is {df_to_map.columns[indeces[i]]}\")\n",
    "\n",
    "        \n",
    "for t in range(10):\n",
    "    top_words(t)"
   ]
  },
  {
   "cell_type": "markdown",
   "metadata": {},
   "source": [
    "## Problem 2: Analysis/Exploration\n",
    "\n",
    "Using the model, for each essay assign it the most likely topic. For the undisputed papers, plot the histogram of this topic usage vs author."
   ]
  },
  {
   "cell_type": "code",
   "execution_count": 415,
   "metadata": {},
   "outputs": [],
   "source": [
    "#load authorship\n",
    "authorship = pd.read_csv('/Users/ericgarc/Desktop/Stanford/Spring 2021/STATS 271/HW 5/authorship.csv', index_col = 0)"
   ]
  },
  {
   "cell_type": "code",
   "execution_count": 465,
   "metadata": {},
   "outputs": [],
   "source": [
    "#df_to_map = pd.read_csv('/Users/ericgarc/Desktop/Stanford/Spring 2021/STATS 271/HW 5/tokenized_fed.csv', index_col = 0)\n",
    "topics = []\n",
    "def top_topic(n):\n",
    "    max = np.sort(q_pi.concentration[n,:])[-1]\n",
    "    index = np.asarray(np.where(q_pi.concentration[n,:] == max))\n",
    "    #print(f\"Document {n+1} belongs to topic {index}\")\n",
    "    return index\n",
    "        \n",
    "for n in range(85):\n",
    "    topics.append(top_topic(n))\n",
    "\n",
    "    \n",
    "topics = np.squeeze(np.asarray(topics), axis=2)   \n"
   ]
  },
  {
   "cell_type": "code",
   "execution_count": 462,
   "metadata": {},
   "outputs": [
    {
     "data": {
      "text/plain": [
       "Text(0, 0.5, 'Frequency')"
      ]
     },
     "execution_count": 462,
     "metadata": {},
     "output_type": "execute_result"
    },
    {
     "data": {
      "image/png": "[encoded data removed]",
      "text/plain": [
       "<Figure size 432x288 with 1 Axes>"
      ]
     },
     "metadata": {
      "needs_background": "light"
     },
     "output_type": "display_data"
    }
   ],
   "source": [
    "new_auth = authorship.to_numpy()\n",
    "authorship['Topic'] = topics\n",
    "auth_nodis = authorship.loc[authorship['x'] != 'DISPUTED']\n",
    "hamilton = authorship.loc[authorship['x'] == 'HAMILTON']\n",
    "jay = authorship.loc[authorship['x'] == 'JAY']\n",
    "madison = authorship.loc[authorship['x'] == 'MADISON']\n",
    "\n",
    "hamilton['Topic'].value_counts().plot(kind = \"bar\")\n",
    "plt.title(\"Hamilton Histogram of Topics\")\n",
    "plt.xlabel('Topic')\n",
    "plt.ylabel('Frequency')"
   ]
  },
  {
   "cell_type": "code",
   "execution_count": 463,
   "metadata": {},
   "outputs": [
    {
     "data": {
      "text/plain": [
       "Text(0, 0.5, 'Frequency')"
      ]
     },
     "execution_count": 463,
     "metadata": {},
     "output_type": "execute_result"
    },
    {
     "data": {
      "image/png": "[encoded data removed]",
      "text/plain": [
       "<Figure size 432x288 with 1 Axes>"
      ]
     },
     "metadata": {
      "needs_background": "light"
     },
     "output_type": "display_data"
    }
   ],
   "source": [
    "jay['Topic'].value_counts().plot(kind = \"bar\")\n",
    "plt.title(\"Jay Histogram of Topics\")\n",
    "plt.xlabel('Topic')\n",
    "plt.ylabel('Frequency')"
   ]
  },
  {
   "cell_type": "code",
   "execution_count": 464,
   "metadata": {},
   "outputs": [
    {
     "data": {
      "text/plain": [
       "Text(0, 0.5, 'Frequency')"
      ]
     },
     "execution_count": 464,
     "metadata": {},
     "output_type": "execute_result"
    },
    {
     "data": {
      "image/png": "[encoded data removed]",
      "text/plain": [
       "<Figure size 432x288 with 1 Axes>"
      ]
     },
     "metadata": {
      "needs_background": "light"
     },
     "output_type": "display_data"
    }
   ],
   "source": [
    "madison['Topic'].value_counts().plot(kind = \"bar\")\n",
    "plt.title(\"Madison Histogram of Topics\")\n",
    "plt.xlabel('Topic')\n",
    "plt.ylabel('Frequency')"
   ]
  },
  {
   "cell_type": "markdown",
   "metadata": {},
   "source": [
    "## Problem 3: Short Answer questions\n",
    "\n",
    "### Part a)\n",
    "\n",
    "Explain what approach you would take if you wanted to use LDA to help settle disputed authorship. How would you incorporate authorship by different authors into your model?\n",
    "\n",
    "### Part b)\n",
    "\n",
    "A shortcoming of LDA discussed in this class is the fact that the model is exchangeable (which is not a very reasonable assumption for essays). What would you do to address this shortcoming? In essence, how could you account for dependencies between words that are near each other in the essay?"
   ]
  },
  {
   "cell_type": "markdown",
   "metadata": {},
   "source": [
    "### Part (a) answer:\n",
    "\n",
    "First, I would take out all of the papers that were disputed before training the LDA model. We could then propose a new latent variable that would assign a document to a specific author. We could then use LDA with two latent variables: document assignment to topic and document assignment to author. This would be very similar to what we have just done except we would now be approximating for factorized posteriors. However, this might start to break down as the independence assumption might not start to hold anymore."
   ]
  },
  {
   "cell_type": "markdown",
   "metadata": {},
   "source": [
    "### Part (b) answer:\n",
    "\n",
    "To address the exchangeability issue, we could create two (or more) dictionaries that contain single words, a string of two words, strings of three words, etc. We could then conduct LDA on all of the dictionaries separately and compare the assignment of topics to the one-word, two-word, three-word, etc. dictionaries. \n",
    "\n",
    "Alternatively, we could search for unique strings in the authored papers that occur more frequently for certain authors. We could then create dictionaries for those unique strings and run LDA with a certain number of topics. However, if we are looking for strings of words and not just words, we should not exclude frequent \"filler\" words or words that occur very infrequently as the construction of phrases using these words could be unique to authors."
   ]
  },
  {
   "cell_type": "markdown",
   "metadata": {
    "id": "_OnB5kf-k7B0"
   },
   "source": [
    "# Submission Instructions\n",
    "\n",
    "\n",
    "**Formatting:** check that your code does not exceed 80 characters in line width. If you're working in Colab, you can set _Tools &rarr; Settings &rarr; Editor &rarr; Vertical ruler column_ to 80 to see when you've exceeded the limit. \n",
    "\n",
    "Download your notebook in .ipynb format and use the following commands to convert it to PDF:\n",
    "```\n",
    "jupyter nbconvert --to pdf hw5_yourname.ipynb\n",
    "```\n",
    "\n",
    "**Dependencies:**\n",
    "\n",
    "- `nbconvert`: If you're using Anaconda for package management, \n",
    "```\n",
    "conda install -c anaconda nbconvert\n",
    "```\n",
    "\n",
    "**Upload** your .ipynb and .pdf files to Gradescope. \n"
   ]
  }
 ],
 "metadata": {
  "colab": {
   "collapsed_sections": [],
   "name": "Copy of STATS271 HW1: Bayesian Linear Regression.ipynb",
   "provenance": []
  },
  "kernelspec": {
   "display_name": "Python 3",
   "language": "python",
   "name": "python3"
  },
  "language_info": {
   "codemirror_mode": {
    "name": "ipython",
    "version": 3
   },
   "file_extension": ".py",
   "mimetype": "text/x-python",
   "name": "python",
   "nbconvert_exporter": "python",
   "pygments_lexer": "ipython3",
   "version": "3.8.3"
  }
 },
 "nbformat": 4,
 "nbformat_minor": 4
}
