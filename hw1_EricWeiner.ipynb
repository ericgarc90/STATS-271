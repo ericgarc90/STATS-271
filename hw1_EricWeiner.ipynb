{
 "cells": [
  {
   "cell_type": "markdown",
   "metadata": {
    "id": "IoYdLutn7dUa"
   },
   "source": [
    "# HW1: Bayesian Linear Regression\n",
    "\n",
    "\n",
    "**STATS271/371: Applied Bayesian Statistics**\n",
    "\n",
    "_Stanford University. Winter, 2021._\n",
    "\n",
    "---\n",
    "\n",
    "**Name:** Eric Weiner\n",
    "\n",
    "**Names of any collaborators:** _Names here_\n",
    "\n",
    "*Due: 11:59pm Friday, April 9, 2021 via GradeScope*\n",
    "\n",
    "---\n",
    "\n",
    "In this homework assignment you'll perform a Bayesian linear regression. As a quick recap of lecture, we have the following notation:\n",
    "\n",
    "- Data:\n",
    " - $\\mathbf{x}_n \\in \\mathbb{R}^P$ feature/covariates for the $n$-th datapoint\n",
    " - $y_n \\in \\mathbb{R}$ observation for the $n$-th datapoint\n",
    "- Parameters:\n",
    " - $\\mathbf{w} \\in \\mathbb{R}^P$  weights\n",
    " - $\\sigma^2$ observation/noise variance\n",
    "- Hyperparameters\n",
    " - $\\nu, \\tau^2$, degrees of freedom and scaling parameter of the inverse chi-squared prior on variance\n",
    " - $\\boldsymbol{\\mu} \\in \\mathbb{R}^P$ mean vector\n",
    " - $\\mathbf{\\Lambda} \\in \\mathbb{R}_{\\succ 0}^{P \\times P}$ positive definite precision matrix\n",
    "\n",
    "The probabilistic model is as follows,\n",
    "\\begin{align}\n",
    "p( \\{y_n \\}_{n=1}^N, \\mathbf{w}, \\sigma^2 \\mid \\{\\mathbf{x}_n\\}_{n=1}^N) \n",
    "&= p(\\mathbf{w}, \\sigma^2) \\prod_{n=1}^N p(y_n \\mid \\mathbf{w}, \\sigma^2, \\mathbf{x}_n) \\\\\n",
    "&= \\mathrm{Inv-}\\chi^2(\\sigma^2 \\mid \\nu, \\tau^2) \\, \\mathcal{N}(\\mathbf{w} \\mid \\boldsymbol{\\mu}, \\sigma^2 \\mathbf{\\Lambda}^{-1}) \n",
    "\\prod_{n=1}^N \\mathcal{N}(y_n \\mid \\mathbf{w}^\\top \\mathbf{x}_n, \\sigma^2).\n",
    "\\end{align}\n",
    "\n",
    "Under this model, the posterior distribution $p(\\mathbf{w}, \\sigma^2 \\mid \\{y_n, \\mathbf{x}_n\\}_{n=1}^N)$ is available in closed form, as the prior is conjugate to the likelihood.\n",
    "\n",
    "Follow the instructions below to compute the posterior distribution and perform the specified analyses. Specifically, we will be performing polynomial regression and recreating plots per the slides of **Lap 1: Bayesian Linear Regression**"
   ]
  },
  {
   "cell_type": "code",
   "execution_count": 4,
   "metadata": {},
   "outputs": [],
   "source": [
    "import wget"
   ]
  },
  {
   "cell_type": "code",
   "execution_count": 5,
   "metadata": {},
   "outputs": [
    {
     "data": {
      "text/plain": [
       "'hw1.csv'"
      ]
     },
     "execution_count": 5,
     "metadata": {},
     "output_type": "execute_result"
    }
   ],
   "source": [
    "wget.download('https://raw.githubusercontent.com/slinderman/stats271sp2021/main/assignments/hw1.csv')"
   ]
  },
  {
   "cell_type": "code",
   "execution_count": 2,
   "metadata": {
    "scrolled": true
   },
   "outputs": [
    {
     "data": {
      "text/html": [
       "<div>\n",
       "<style scoped>\n",
       "    .dataframe tbody tr th:only-of-type {\n",
       "        vertical-align: middle;\n",
       "    }\n",
       "\n",
       "    .dataframe tbody tr th {\n",
       "        vertical-align: top;\n",
       "    }\n",
       "\n",
       "    .dataframe thead th {\n",
       "        text-align: right;\n",
       "    }\n",
       "</style>\n",
       "<table border=\"1\" class=\"dataframe\">\n",
       "  <thead>\n",
       "    <tr style=\"text-align: right;\">\n",
       "      <th></th>\n",
       "      <th>us</th>\n",
       "      <th>ys</th>\n",
       "    </tr>\n",
       "  </thead>\n",
       "  <tbody>\n",
       "    <tr>\n",
       "      <th>0</th>\n",
       "      <td>1.764052</td>\n",
       "      <td>0.930890</td>\n",
       "    </tr>\n",
       "    <tr>\n",
       "      <th>1</th>\n",
       "      <td>0.400157</td>\n",
       "      <td>0.147197</td>\n",
       "    </tr>\n",
       "    <tr>\n",
       "      <th>2</th>\n",
       "      <td>0.978738</td>\n",
       "      <td>-0.123841</td>\n",
       "    </tr>\n",
       "    <tr>\n",
       "      <th>3</th>\n",
       "      <td>2.240893</td>\n",
       "      <td>1.397427</td>\n",
       "    </tr>\n",
       "    <tr>\n",
       "      <th>4</th>\n",
       "      <td>1.867558</td>\n",
       "      <td>0.440510</td>\n",
       "    </tr>\n",
       "    <tr>\n",
       "      <th>5</th>\n",
       "      <td>-0.977278</td>\n",
       "      <td>-3.253773</td>\n",
       "    </tr>\n",
       "    <tr>\n",
       "      <th>6</th>\n",
       "      <td>0.950088</td>\n",
       "      <td>0.276898</td>\n",
       "    </tr>\n",
       "    <tr>\n",
       "      <th>7</th>\n",
       "      <td>-0.151357</td>\n",
       "      <td>-0.719139</td>\n",
       "    </tr>\n",
       "    <tr>\n",
       "      <th>8</th>\n",
       "      <td>-0.103219</td>\n",
       "      <td>-1.474301</td>\n",
       "    </tr>\n",
       "    <tr>\n",
       "      <th>9</th>\n",
       "      <td>0.410598</td>\n",
       "      <td>0.545476</td>\n",
       "    </tr>\n",
       "    <tr>\n",
       "      <th>10</th>\n",
       "      <td>0.144044</td>\n",
       "      <td>-1.583139</td>\n",
       "    </tr>\n",
       "    <tr>\n",
       "      <th>11</th>\n",
       "      <td>1.454273</td>\n",
       "      <td>0.477153</td>\n",
       "    </tr>\n",
       "    <tr>\n",
       "      <th>12</th>\n",
       "      <td>0.761038</td>\n",
       "      <td>-0.332554</td>\n",
       "    </tr>\n",
       "    <tr>\n",
       "      <th>13</th>\n",
       "      <td>0.121675</td>\n",
       "      <td>-0.111935</td>\n",
       "    </tr>\n",
       "    <tr>\n",
       "      <th>14</th>\n",
       "      <td>0.443863</td>\n",
       "      <td>0.178543</td>\n",
       "    </tr>\n",
       "  </tbody>\n",
       "</table>\n",
       "</div>"
      ],
      "text/plain": [
       "          us        ys\n",
       "0   1.764052  0.930890\n",
       "1   0.400157  0.147197\n",
       "2   0.978738 -0.123841\n",
       "3   2.240893  1.397427\n",
       "4   1.867558  0.440510\n",
       "5  -0.977278 -3.253773\n",
       "6   0.950088  0.276898\n",
       "7  -0.151357 -0.719139\n",
       "8  -0.103219 -1.474301\n",
       "9   0.410598  0.545476\n",
       "10  0.144044 -1.583139\n",
       "11  1.454273  0.477153\n",
       "12  0.761038 -0.332554\n",
       "13  0.121675 -0.111935\n",
       "14  0.443863  0.178543"
      ]
     },
     "execution_count": 2,
     "metadata": {},
     "output_type": "execute_result"
    }
   ],
   "source": [
    "import pandas as pd\n",
    "df = pd.read_csv('hw1.csv')\n",
    "df"
   ]
  },
  {
   "cell_type": "markdown",
   "metadata": {
    "id": "RK9HU0boZxD0"
   },
   "source": [
    "## Problem 1: Plot the data\n",
    "\n",
    "Recreate the plot from page 7 of the slides"
   ]
  },
  {
   "cell_type": "code",
   "execution_count": 348,
   "metadata": {
    "id": "gm2TLeKqDRdx"
   },
   "outputs": [
    {
     "data": {
      "text/plain": [
       "Text(0, 0.5, 'y')"
      ]
     },
     "execution_count": 348,
     "metadata": {},
     "output_type": "execute_result"
    },
    {
     "data": {
      "image/png": "[encoded data removed]",
      "text/plain": [
       "<Figure size 432x288 with 1 Axes>"
      ]
     },
     "metadata": {
      "needs_background": "light"
     },
     "output_type": "display_data"
    }
   ],
   "source": [
    "import matplotlib.pyplot as plt\n",
    "df.plot.scatter(x ='us',\n",
    "                      y='ys',\n",
    "                      c='Blue')\n",
    "plt.xlabel('u')\n",
    "plt.ylabel('y')"
   ]
  },
  {
   "cell_type": "markdown",
   "metadata": {
    "id": "m-CvgtlRZ3dd"
   },
   "source": [
    "## Problem 2: Compute and print the sufficient statistics of the data\n",
    "\n",
    "Using covariates for a polynomial regression of degree 1 (letting the features $\\mathbf{x}_n = (1, u_n)^\\top$, calculate and print out the sufficient statistics (per slide 8)."
   ]
  },
  {
   "cell_type": "code",
   "execution_count": 333,
   "metadata": {
    "id": "Vp0ZS99pDdBO"
   },
   "outputs": [
    {
     "name": "stdout",
     "output_type": "stream",
     "text": [
      "The sum of the squared response variables is 19.5913938051062\n",
      "The second sufficient statistic is [-3.204591    9.74031843]\n",
      "The third sufficient statistic is [[15.         10.3051246 ]\n",
      " [10.3051246  17.72586162]]\n"
     ]
    }
   ],
   "source": [
    "import numpy as np\n",
    "##calculating sufficienct statistic sum (y^2)\n",
    "sum_y2 = sum((df[\"ys\"]**2))\n",
    "print(f\"The sum of the squared response variables is {sum_y2}\")\n",
    "\n",
    "##calculating second sufficient statistic\n",
    "ys = np.asarray(df[['ys']])\n",
    "us = np.asarray(df[['us']])\n",
    "ones = np.ones((15,1))\n",
    "xs = np.concatenate((ones, us), axis =1)\n",
    "sec_suf = sum(np.multiply(ys, xs))\n",
    "\n",
    "print(f\"The second sufficient statistic is {sec_suf}\")\n",
    "\n",
    "\n",
    "##calculating the third sufficient statistic\n",
    "\n",
    "third_suf = np.dot(xs.T, xs)\n",
    "np.shape(third_suf)\n",
    "print(f\"The third sufficient statistic is {third_suf}\")\n",
    "\n"
   ]
  },
  {
   "cell_type": "markdown",
   "metadata": {
    "id": "PkVds8POaOL-"
   },
   "source": [
    "## Problem 3: Compute and print the posterior parameters $\\nu'$, $\\tau'^2$, $\\boldsymbol{\\mu}'$, and $\\mathbf{\\Lambda}'$\n",
    "\n",
    "Assume that our prior parameters $\\nu = \\tau^2 = \\boldsymbol{\\mu} = \\mathbf{\\Lambda} = 0$. "
   ]
  },
  {
   "cell_type": "code",
   "execution_count": 334,
   "metadata": {
    "id": "rbxyvkTrEKPM"
   },
   "outputs": [
    {
     "name": "stdout",
     "output_type": "stream",
     "text": [
      "nu prime is 15\n",
      "lambda prime is [[15.         10.3051246 ]\n",
      " [10.3051246  17.72586162]]\n",
      "mu prime is [[-0.98426349]\n",
      " [ 1.12171001]]\n",
      "tau prime squared is [[0.36742795]]\n"
     ]
    }
   ],
   "source": [
    "##declaration of initial variables\n",
    "nu_0 = 0\n",
    "prec_0 = 0\n",
    "mu_0 = np.zeros((2,1))\n",
    "lambda_0 = np.zeros((2,2))\n",
    "sec_suf = np.reshape(sec_suf, (2,1))\n",
    "## nu prime\n",
    "N = len(ys)\n",
    "nu_prime = nu_0 + N\n",
    "\n",
    "print(f\"nu prime is {nu_prime}\")\n",
    "## lambda prime\n",
    "\n",
    "lambda_prime = lambda_0 + third_suf\n",
    "\n",
    "print(f\"lambda prime is {lambda_prime}\")\n",
    "\n",
    "\n",
    "## mu prime \n",
    "\n",
    "def mu_pr(lam_pr, lam, mu, sec_suff):\n",
    "    return np.dot(np.linalg.inv(lam_pr),np.dot(lam, mu) + sec_suff)\n",
    "\n",
    "mu_prime  = mu_pr(lambda_prime, lambda_0, mu_0, sec_suf)\n",
    "print(f\"mu prime is {mu_prime}\")\n",
    "\n",
    "\n",
    "## tau prime squared\n",
    "\n",
    "def tau_prsq(nu_pr, nu, tau, mu, lam, first_suff, mu_pr, lam_pr):\n",
    "    return 1/nu_pr*(nu*(tau**2)+ np.dot(np.dot(mu.T, lam), mu) + first_suff - \n",
    "                    np.dot(np.dot(mu_pr.T, lam_pr), mu_pr))\n",
    "\n",
    "tau_prime_sq  = tau_prsq(nu_prime, nu_0, prec_0, mu_0, lambda_0, \n",
    "                         np.reshape(sum_y2, (1,1)), mu_prime, lambda_prime)\n",
    "print(f\"tau prime squared is {tau_prime_sq}\")"
   ]
  },
  {
   "cell_type": "markdown",
   "metadata": {
    "id": "kZe-Wi1wagt9"
   },
   "source": [
    "## Problem 4a: Plot the posterior of $\\sigma^2$\n",
    "\n",
    "(Recreate the plot from slide 25)"
   ]
  },
  {
   "cell_type": "markdown",
   "metadata": {},
   "source": [
    "We know that $\\tau '^{2}$ can be modeled plotted as an inverse gamma function with shape $\\frac{\\nu '}{2}$ parameter and scale parameter $\\frac{\\nu ' \\tau ` ^{2}}{2}$."
   ]
  },
  {
   "cell_type": "code",
   "execution_count": 118,
   "metadata": {
    "id": "t3bQq1rFGKSJ"
   },
   "outputs": [
    {
     "data": {
      "text/plain": [
       "<matplotlib.legend.Legend at 0x7fd4e03c77f0>"
      ]
     },
     "execution_count": 118,
     "metadata": {},
     "output_type": "execute_result"
    },
    {
     "data": {
      "image/png": "[encoded data removed]",
      "text/plain": [
       "<Figure size 432x288 with 1 Axes>"
      ]
     },
     "metadata": {
      "needs_background": "light"
     },
     "output_type": "display_data"
    }
   ],
   "source": [
    "from scipy.stats import invgamma\n",
    "\n",
    "fig, ax = plt.subplots(1, 1)\n",
    "a= nu_prime/2\n",
    "beta = nu_prime*tau_prime_sq/2   \n",
    "x = np.linspace(0,1, 100)\n",
    "\n",
    "ax.plot(np.reshape(x, (100,1)), np.reshape(invgamma.pdf(x, a, loc = 0, scale = beta), (100,1)),\n",
    "         'b-', lw=2, alpha=0.6, label='_nolegend_')\n",
    "ax.set_xlabel(r'$\\sigma^2$')\n",
    "ax.set_ylabel(r'$p(\\sigma^2 |\\{y_n, x_n\\}_{n=1}^N)$')\n",
    "ax.axvline(x = 0.25, color ='r', linestyle = \":\")\n",
    "ax.legend([r'$\\sigma_{true}^2$'])\n"
   ]
  },
  {
   "cell_type": "markdown",
   "metadata": {
    "id": "Rz9qrojPaneT"
   },
   "source": [
    "## Problem 4b: Plot the posterior of $\\mathbf{w}$ for $\\sigma^2 \\in \\{0.2, 0.4, 0.6\\}$\n",
    "\n",
    "(Recreate the figures from slide 26)\n"
   ]
  },
  {
   "cell_type": "code",
   "execution_count": 206,
   "metadata": {},
   "outputs": [
    {
     "data": {
      "text/plain": [
       "<matplotlib.contour.QuadContourSet at 0x7fd4c487a4f0>"
      ]
     },
     "execution_count": 206,
     "metadata": {},
     "output_type": "execute_result"
    }
   ],
   "source": [
    "from scipy.stats import multivariate_normal\n",
    "x, y = np.mgrid[-1.6:-0.49:.01, 0.49:1.6:.01]\n",
    "pos = np.dstack((x, y))\n",
    "\n",
    "inv_lam_sig = 0.2*np.linalg.inv(lambda_prime)\n",
    "rv_pttwo = multivariate_normal([-0.98426349,1.12171001], \n",
    "                               [[inv_lam_sig[0,0] , inv_lam_sig[0,1]], \n",
    "                                                              [inv_lam_sig[1,0], inv_lam_sig[1,1]]])\n",
    "\n",
    "ax1.contourf(x, y, rv_pttwo.pdf(pos))\n",
    "\n",
    "inv_lam_sig = 0.4*np.linalg.inv(lambda_prime)\n",
    "rv_ptfour = multivariate_normal([-0.98426349,1.12171001], \n",
    "                                [[inv_lam_sig[0,0] , inv_lam_sig[0,1]], \n",
    "                                                              [inv_lam_sig[1,0], inv_lam_sig[1,1]]])\n",
    "ax2.contourf(x, y, rv_ptfour.pdf(pos))\n",
    "\n",
    "inv_lam_sig = 0.6*np.linalg.inv(lambda_prime)\n",
    "rv_ptsix = multivariate_normal([-0.98426349,1.12171001], \n",
    "                               [[inv_lam_sig[0,0] , inv_lam_sig[0,1]], \n",
    "                                                              [inv_lam_sig[1,0], inv_lam_sig[1,1]]])\n",
    "ax3.contourf(x, y, rv_ptsix.pdf(pos))\n",
    "\n"
   ]
  },
  {
   "cell_type": "code",
   "execution_count": 208,
   "metadata": {},
   "outputs": [
    {
     "data": {
      "text/plain": [
       "<matplotlib.contour.QuadContourSet at 0x7fd4c8eb9130>"
      ]
     },
     "execution_count": 208,
     "metadata": {},
     "output_type": "execute_result"
    },
    {
     "data": {
      "image/png": "[encoded data removed]",
      "text/plain": [
       "<Figure size 648x216 with 3 Axes>"
      ]
     },
     "metadata": {
      "needs_background": "light"
     },
     "output_type": "display_data"
    }
   ],
   "source": [
    "fig, (ax1, ax2, ax3) = plt.subplots(1, 3, sharey= True,figsize=(9, 3))\n",
    "\n",
    "x_ind = np.array([-1.4, -1.2, -1.0, -0.8, -0.6])\n",
    "y_ind = np.array([0.6, 0.8, 1.0, 1.2, 1.4])\n",
    "\n",
    "ax1.set_xlabel(r'$w_0$')\n",
    "ax1.set_ylabel(r'$w_1$')\n",
    "ax1.set_xticks(x_ind)\n",
    "ax1.set_yticks(y_ind)\n",
    "ax1.set_xlim([-1.5, -0.5])\n",
    "ax1.set_ylim([0.5, 1.5])\n",
    "\n",
    "ax2.set_xlabel(r'$w_0$')\n",
    "ax2.set_ylabel(r'$w_1$')\n",
    "ax2.set_xticks(x_ind)\n",
    "ax2.set_xlim([-1.5, -0.5])\n",
    "\n",
    "ax3.set_xlabel(r'$w_0$')\n",
    "ax3.set_ylabel(r'$w_1$')\n",
    "ax3.set_xticks(x_ind)\n",
    "ax3.set_xlim([-1.5, -0.5])\n",
    "\n",
    "ax1.title.set_text(r'$p(w |\\{y_n, x_n\\}, \\sigma^2 = 0.2)$')\n",
    "ax2.title.set_text(r'$p(w |\\{y_n, x_n\\}, \\sigma^2 = 0.4)$')\n",
    "ax3.title.set_text(r'$p(w |\\{y_n, x_n\\}, \\sigma^2 = 0.6)$')\n",
    "\n",
    "ax1.plot(-1,1, \"*\", color = \"red\")\n",
    "ax2.plot(-1,1, \"*\", color = \"red\")\n",
    "ax3.plot(-1,1, \"*\", color = \"red\")\n",
    "ax1.contourf(x, y, rv_pttwo.pdf(pos))\n",
    "ax2.contourf(x, y, rv_ptfour.pdf(pos))\n",
    "ax3.contourf(x, y, rv_ptsix.pdf(pos))"
   ]
  },
  {
   "cell_type": "markdown",
   "metadata": {
    "id": "QjZ1j5A_awNc"
   },
   "source": [
    "## Problem 5: Compute the log marginal likelihood $p(\\{y_n\\} | \\{\\mathbf{x}_n\\})$\n",
    "\n",
    "Compare the log marginal likelihood with covariates $x_n = (u_n^0, \\ldots, u_n^{P-1})$ for $P=0,\\ldots,4$. Use the following prior parameters:\n",
    "- $\\nu = 0.01$\n",
    "- $\\tau^2 = 0.01$\n",
    "- $\\mathbf{\\mu} = (0, \\ldots, 0)^\\top$\n",
    "- $\\mathbf{\\Lambda} = 0.01 I$\n",
    "\n",
    "To recapitulate the plot (slide 33) from lecture, divide the marginal likelihood by $N$ to get the average log marginal likelihood per datapoint."
   ]
  },
  {
   "cell_type": "code",
   "execution_count": 349,
   "metadata": {
    "id": "AHvrA6RoG9gJ"
   },
   "outputs": [
    {
     "data": {
      "image/png": "[encoded data removed]",
      "text/plain": [
       "<Figure size 432x288 with 1 Axes>"
      ]
     },
     "metadata": {
      "needs_background": "light"
     },
     "output_type": "display_data"
    }
   ],
   "source": [
    "from scipy.special import gamma, factorial\n",
    "import math\n",
    "from math import pi,cos,sin,tan,atan\n",
    "\n",
    "nu_0 = 0.01\n",
    "tau_sq = 0.01\n",
    "nu_prime = nu_0 + N\n",
    "likelihoods = []\n",
    "p = range(5)\n",
    "xs_test = np.concatenate((us**0, us**1, us**2, us**3, us**4), axis =1)\n",
    "\n",
    "for i in p:\n",
    "    third_suf = np.dot(xs_test[:,:i+1].T, xs_test[:,:i+1])\n",
    "    lambda_0 = 0.01*np.identity(i+1)\n",
    "    lambda_prime = lambda_0 + third_suf\n",
    "    \n",
    "    mu_0 = np.zeros((i+1,1))\n",
    "    sec_suf = np.reshape(sum(np.multiply(ys, xs_test[:,:i+1])), (i+1,1))\n",
    "    mu_prime  = mu_pr(lambda_prime, lambda_0, mu_0, sec_suf)\n",
    "    tau_prime_sq  = tau_prsq(nu_prime, nu_0, tau_sq, mu_0, lambda_0, \n",
    "                         np.reshape(sum_y2, (1,1)), mu_prime, lambda_prime)\n",
    "    \n",
    "    first = (gamma(nu_prime/2))/(gamma(nu/2))\n",
    "    second = ((tau_sq*nu_0/2)**(nu_0/2))/((tau_prime_sq*nu_prime/2)**(nu_prime/2))\n",
    "            \n",
    "    a = np.linalg.det(lambda_0)**(1/2)\n",
    "    b = np.linalg.det(lambda_prime)**(1/2)\n",
    "    third = a/b\n",
    "              \n",
    "    lh = (2*pi)**(-N/2)*first*second*third\n",
    "    likelihoods.append(lh)\n",
    "    \n",
    "   \n",
    "    #print(f\"for degree {i}, nu prime is {nu_prime}\")\n",
    "    #print(f\"for degree {i}, lambda prime is {lambda_prime}\")\n",
    "    #print(f\"for degree {i}, mu prime is {mu_prime}\")\n",
    "    #print(f\"for degree {i}, tau prime squared is {tau_prime_sq}\")\n",
    "likelihoods_graph = np.reshape(np.log(likelihoods)/N, (5,1))\n",
    "\n",
    "plt.plot([0,1,2,3,4], likelihoods_graph, marker = \".\",markersize=10)\n",
    "plt.title(r'$\\frac{1}{N}logp(\\{y_n\\} |\\{x_n\\}, \\nu = 0.01, \\tau^2 = 0.01, \\Lambda = 0.01I)$')\n",
    "plt.xlabel('degree')\n",
    "plt.ylabel('avg. log marginal likelihood')\n",
    "plt.show()"
   ]
  },
  {
   "cell_type": "markdown",
   "metadata": {},
   "source": [
    "We can see that the marginal likelihood of the data is maximum at 1 and slightly less at degree 2. This would lead us to believe that either a linear or quadratic transformation of the features would help us examine the true relationship between the ys and us."
   ]
  },
  {
   "cell_type": "markdown",
   "metadata": {
    "id": "_OnB5kf-k7B0"
   },
   "source": [
    "# Submission Instructions\n",
    "\n",
    "\n",
    "**Formatting:** check that your code does not exceed 80 characters in line width. If you're working in Colab, you can set _Tools &rarr; Settings &rarr; Editor &rarr; Vertical ruler column_ to 80 to see when you've exceeded the limit. \n",
    "\n",
    "Download your notebook in .ipynb format and use the following commands to convert it to PDF:\n",
    "```\n",
    "jupyter nbconvert --to pdf hw1_yourname.ipynb\n",
    "```\n",
    "\n",
    "**Dependencies:**\n",
    "\n",
    "- `nbconvert`: If you're using Anaconda for package management, \n",
    "```\n",
    "conda install -c anaconda nbconvert\n",
    "```\n",
    "\n",
    "**Upload** your .ipynb and .pdf files to Gradescope. \n"
   ]
  }
 ],
 "metadata": {
  "colab": {
   "collapsed_sections": [],
   "name": "Copy of STATS271 HW1: Bayesian Linear Regression.ipynb",
   "provenance": []
  },
  "kernelspec": {
   "display_name": "Python 3",
   "language": "python",
   "name": "python3"
  },
  "language_info": {
   "codemirror_mode": {
    "name": "ipython",
    "version": 3
   },
   "file_extension": ".py",
   "mimetype": "text/x-python",
   "name": "python",
   "nbconvert_exporter": "python",
   "pygments_lexer": "ipython3",
   "version": "3.8.3"
  }
 },
 "nbformat": 4,
 "nbformat_minor": 4
}
