{
 "cells": [
  {
   "cell_type": "markdown",
   "metadata": {
    "id": "1jPCGP8HT8G4"
   },
   "source": [
    "# HW2 - Bayesian Inference in the Poisson Generalized Linear Model\n",
    "\n",
    "**STATS271/371: Applied Bayesian Statistics**\n",
    "\n",
    "_Stanford University. Winter, 2021._\n",
    "\n",
    "---\n",
    "\n",
    "**Name:** Eric Weiner\n",
    "\n",
    "**Names of any collaborators:** Ari Beller\n",
    "\n",
    "*Due: 11:59pm Friday, April 16, 2021 via GradeScope*\n",
    "\n",
    "---\n",
    "\n",
    "In this 2nd homework, we will perform Bayesian Inference in the Poisson generalized linear model.\n",
    "\n",
    "**References:**\n",
    "- Chapter 16 of BDA3 contains background material on generalized linear models.\n",
    "- Chapter 7.1 of BDA3 introduces notation for model evaluation based on predictive log likelihoods.\n",
    "- The data we use comes from [Uzzell & Chichilnisky, 2004](http://jn.physiology.org/content/92/2/780.long). If you're interested, see `README.txt` file in the `/data_RGCs` directory or the [Pillow  tutorial](https://github.com/pillowlab/GLMspiketraintutorial/blob/master/python/tutorial1_PoissonGLM.ipynb) for details.\n",
    "\n",
    "\n",
    "**Remark:** While some programming languages may incorporate packages that fit Poisson GLMs using one line of code, deriving some of the calculations yourself is an important part of this assignment. Therefore, calls to specialized GLM libraries such as pyglmnet are **prohibited**. Of course, standard libraries such as Numpy are still allowed (and encouraged!). calls to numerical optimizers (such as scipy.optimize.minimize) are fair game. \n"
   ]
  },
  {
   "cell_type": "markdown",
   "metadata": {
    "id": "psDYF3GTj4Qv"
   },
   "source": [
    "\n",
    "## The Poisson GLM\n",
    "The Poisson distribution is a common model for count data with a single parameter $\\lambda \\in \\mathbb{R}_+$. Its pmf is,\n",
    "\\begin{align}\n",
    "\\Pr(y \\mid \\lambda) &= \\frac{1}{y!} e^{-\\lambda} \\lambda^y,\n",
    "\\end{align}\n",
    "for $y \\in \\mathbb{N}$. Its mean and variance are both equal to $\\lambda$.\n",
    "\n",
    "Suppose we have count observations $y_n \\in \\mathbb{N}$ along with covariates $x_n \\in \\mathbb{R}^P$. We construct a Poisson GLM by modeling the expected value as,\n",
    "\\begin{align}\n",
    "\\mathbb{E}[y_n \\mid x_n] = f(w^\\top x_n),\n",
    "\\end{align}\n",
    "with $w \\in \\mathbb{R}^P$ and $f: \\mathbb{R} \\to \\mathbb{R}_+$ is the mean function. The _canonical mean function_ is $f(a) = e^a$; equivalently, the canonical _link_ function is the logarithm.\n",
    "\n",
    "\n",
    "We assume a Gaussian prior on the weights $w$:\n",
    "$$\n",
    "w \\sim \\mathcal{N}(0, \\sigma^2 I),\n",
    "$$\n",
    "\n",
    "where $\\sigma^2 I$ is the covariance matrix."
   ]
  },
  {
   "cell_type": "markdown",
   "metadata": {
    "id": "08JOl1fToUMp"
   },
   "source": [
    "## Load the data\n",
    "\n",
    "The data consists of spike counts from a retinal neuron responding to a flickering light. The spike counts are measured in 8.3ms bins and they range from 0 to 3 spikes/bin. The stimulus is binary, either .48 if the light is on or -.48 if it's off. The goal of this assignment is to model how the neural spike counts relate to recent light exposure over the past 25 time bins (approximately 200ms).\n",
    "\n",
    "We've provided some code to load the data in Python and plot it. Feel free to convert this to R if that is your preference."
   ]
  },
  {
   "cell_type": "code",
   "execution_count": 5,
   "metadata": {
    "colab": {
     "base_uri": "https://localhost:8080/",
     "height": 281
    },
    "id": "wITwcvbsoWAi",
    "outputId": "e51dbd5b-769c-48c4-8128-7427f7609baa"
   },
   "outputs": [
    {
     "data": {
      "image/png": "[encoded data removed]",
      "text/plain": [
       "<Figure size 432x288 with 2 Axes>"
      ]
     },
     "metadata": {
      "needs_background": "light"
     },
     "output_type": "display_data"
    }
   ],
   "source": [
    "import wget\n",
    "wget.download('https://raw.githubusercontent.com/slinderman/stats271sp2021/main/assignments/hw2/hw2.csv')\n",
    "import autograd.numpy as np\n",
    "import pandas as pd\n",
    "import matplotlib.pyplot as plt\n",
    "\n",
    "df = pd.read_csv(\"hw2.csv\")\n",
    "\n",
    "# Convert the training data to arrays\n",
    "y_train = np.array(df[\"y_train\"])\n",
    "stim_train = np.array(df[\"stim_train\"])\n",
    "N_train = len(y_train)\n",
    "\n",
    "# Convert the test data to arrays\n",
    "y_test = np.array(df[\"y_test\"])\n",
    "stim_test = np.array(df[\"stim_test\"])\n",
    "N_test = len(y_test)\n",
    "\n",
    "# Plot the stimulus and spike counts\n",
    "fig, axs = plt.subplots(2, 1, sharex=True)\n",
    "axs[0].plot(stim_train[:50])\n",
    "axs[0].set_ylabel(\"stimulus\")\n",
    "axs[1].stem(y_train[:50], use_line_collection=True)\n",
    "axs[1].set_ylabel('spike count')\n",
    "_ = axs[1].set_xlabel('time bin [8.3ms each]')"
   ]
  },
  {
   "cell_type": "markdown",
   "metadata": {
    "id": "anetQT3po1OT"
   },
   "source": [
    "## Problem 1: Construct the design matrix\n",
    "\n",
    "Let $y_n \\in \\mathbb{N}$ denote the spike count in the $n$-th time bin and  $s_n \\in \\mathbb{R}$ denote the corresponding stimulus at that bin.\n",
    "\n",
    "Construct the _design matrix_ for the training data $X \\in \\mathbb{R}^{N_{\\mathsf{train}} \\times P}$ with rows\n",
    "\\begin{align}\n",
    "x_n &= (1, s_n, s_{n-1}, \\ldots, s_{n-L+1})\n",
    "\\end{align}\n",
    "where $L=25$ denotes the number of stimulus bins to include in the covariates. (Thus the number of total covariates is $P=L+1$.)\n",
    "\n",
    "Visualize the first 50 rows of the matrix with, e.g., `imshow`. Don't forget your labels and colorbar.\n",
    "\n",
    "_Note: Pad the stimulus with zeros so that $s_i = 0$ for $i\\leq 0$._"
   ]
  },
  {
   "cell_type": "code",
   "execution_count": 6,
   "metadata": {
    "colab": {
     "base_uri": "https://localhost:8080/",
     "height": 300
    },
    "id": "ivgxNO6cpJrv",
    "outputId": "65dbfd8a-081a-4cde-a4d7-bbb385b8c76d"
   },
   "outputs": [
    {
     "name": "stdout",
     "output_type": "stream",
     "text": [
      "(1000, 26)\n"
     ]
    },
    {
     "data": {
      "image/png": "[encoded data removed]",
      "text/plain": [
       "<Figure size 432x288 with 2 Axes>"
      ]
     },
     "metadata": {
      "needs_background": "light"
     },
     "output_type": "display_data"
    }
   ],
   "source": [
    "import matplotlib.pyplot as plt\n",
    "from matplotlib.colors import LogNorm\n",
    "\n",
    "i=0\n",
    "x_train = np.zeros((N_train, 25))\n",
    "for i in range(N_train):\n",
    "    for j in range(25):\n",
    "        if i-j<0:\n",
    "            x_train[i,j] = 0\n",
    "        else:\n",
    "            x_train[i,j] = stim_train[i-j] \n",
    "\n",
    "ones = np.ones((1000,1))        \n",
    "x_train = np.concatenate((ones, x_train), axis =1)\n",
    "print(np.shape(x_train))\n",
    "c = plt.imshow(x_train[:50,:])\n",
    "plt.colorbar(c)\n",
    "plt.xlabel(r'$s_i$')\n",
    "plt.ylabel('Training Sample')\n",
    "plt.show()"
   ]
  },
  {
   "cell_type": "markdown",
   "metadata": {
    "id": "23qgr05qinYx"
   },
   "source": [
    "## Problem 2a [Math]: Derive the log joint probability\n",
    "Derive the log joint probability, \n",
    "\\begin{align}\n",
    "\\mathcal{L}(w) &\\triangleq \\log p(\\{y_n\\}_{n=1}^N, w \\mid \\{x_n\\}_{n=1}^N, \\sigma^2) \\\\\n",
    "&= \\ldots\n",
    "\\end{align}"
   ]
  },
  {
   "cell_type": "markdown",
   "metadata": {},
   "source": [
    "The log joint probability can be decomposed as follows\n",
    "\\begin{align}\n",
    "\\mathcal{L}(w) &\\triangleq \\log p(\\{y_n\\}_{n=1}^N, w \\mid \\{x_n\\}_{n=1}^N, \\sigma^2) \\\\\n",
    "&= log((p(\\{y_n\\}_{n=1}^N\\mid \\{x_n\\}_{n=1}^N, w) p(w \\mid \\sigma^2)) \\\\\n",
    "&= log(p(\\{y_n\\}_{n=1}^N\\mid \\{x_n\\}_{n=1}^N, w)+ log(p(w \\mid \\sigma^2))\n",
    "\\end{align}\n",
    "\n",
    "We can rewrite the first portion of the above statement as follows:\n",
    "\n",
    "$$\n",
    "log p(\\{y_n\\}_{n=1}^N\\mid \\{x_n\\}_{n=1}^N, w) = log( \\prod_{n=1}^N Pois(y_n \\mid f(w^Tx_n)))\\\\\n",
    "$$\n",
    "\n",
    "From the problem statement, we have that $f(w^Tx_n) = e^{w^Tx_n}$. Thus, we can now rewrite the expression as:\n",
    "\n",
    "\\begin{equation}\n",
    "log\\displaystyle \\prod_{n=1}^N Pois(y_n \\mid f(w^Tx_n)) = log\\prod_{n=1}^N \\frac{e^{-f(w^tx_n)}(f(w^tx_n))^{y_n}}{y_{n}!} = log\\prod_{n=1}^N \\frac{e^{-e^{w^Tx_n}}e^{{(w^Tx_n)}^{y_n}}}{y_{n}!}\n",
    "\\end{equation}\n",
    "\n",
    "After distributing the log inside and seeing that the log of products is the sum of logs...\n",
    "\n",
    "\\begin{equation}\n",
    "\\sum_{n=1}^N log \\frac{e^{-e^{w^Tx_n}}e^{{(w^Tx_n)}^{y_n}}}{y_{n}!}\n",
    "\\end{equation}\n",
    "\n",
    "Again, using log rules we can split up the numerator and denominator. The summation applies to all of the terms.\n",
    "\n",
    "\\begin{equation}\n",
    "\\sum_{n=1}^N log \\frac{e^{-e^{w^Tx_n}}e^{{(w^Tx_n)}^{y_n}}}{y_{n}!} = \\sum_{n=1}^N log (e^{-e^{w^Tx_n}}) +log(e^{{(w^Tx_n)}^{y_n}}) - log(y_{n}!)\n",
    "\\end{equation}\n",
    "\n",
    "After the simplification of the logarithms and exponents.\n",
    "\n",
    "\\begin{equation}\n",
    "log p(\\{y_n\\}_{n=1}^N\\mid \\{x_n\\}_{n=1}^N, w)=\\sum_{n=1}^N -e^{w^Tx_n} +(w^Tx_n)y_n - log(y_{n}!)\n",
    "\\end{equation}\n",
    "\n",
    "We know that the second part of the equation $log(p(w \\mid \\sigma^2))$ has a normal distribution $w \\sim \\mathcal{N}(0, \\sigma^2 I)$. We can write it as follows:\n",
    "\n",
    "\\begin{equation}\n",
    "log(p(w \\mid \\sigma^2)) = log(2\\pi)^{-p/2} det(\\sigma^2I)^{-\\frac{1}{2}} e^{-\\frac{1}{2}w^T(\\sigma^2I)^{-1}w} =  log (2\\pi)^{-p/2} det(\\sigma^2I)^{-\\frac{1}{2}} e^{-\\frac{1}{2}w^T(\\sigma^2I)^{-1}w} = log (2\\pi)^{-p/2} det(\\sigma^2I)^{-\\frac{1}{2}} +log e^{-\\frac{1}{2}w^T(\\sigma^2I)^{-1}w} \n",
    "\\end{equation}\n",
    "After some more simplification...\n",
    "\n",
    "\\begin{equation}\n",
    "log(p(w \\mid \\sigma^2))=log (2\\pi)^{-p/2} det(\\sigma^2I)^{-\\frac{1}{2}} -\\frac{1}{2}w^T(\\sigma^2I)^{-1}w \n",
    "\\end{equation}\n",
    "\n",
    "Thus, the log joint probability density is:\n",
    "\n",
    "\\begin{equation}\n",
    "\\log p(\\{y_n\\}_{n=1}^N, w \\mid \\{x_n\\}_{n=1}^N, \\sigma^2) = \\sum_{n=1}^N \\left( -e^{w^Tx_n} +(w^Tx_n)y_n - logy_{n}!\\right)+ log (2\\pi)^{-p/2} det(\\sigma^2I)^{-\\frac{1}{2}} -\\frac{1}{2}w^T(\\sigma^2I)^{-1}w   \n",
    "\\end{equation}\n",
    "\n"
   ]
  },
  {
   "cell_type": "markdown",
   "metadata": {
    "id": "sqkG56lw1Bp2"
   },
   "source": [
    "\n",
    "## Problem 2b [Code]: Implement the log probability function\n",
    "Write a function that computes the log joint probability and evaluate it on the training set with $w=(0, \\ldots, 0) \\in \\mathbb{R}^{P}$ and $\\sigma^2 = 1$. **Print your result.**"
   ]
  },
  {
   "cell_type": "code",
   "execution_count": 7,
   "metadata": {
    "colab": {
     "base_uri": "https://localhost:8080/"
    },
    "id": "p0ahnSed1GQp",
    "outputId": "defac3d0-5b96-4d88-c35c-1781862b7cec"
   },
   "outputs": [
    {
     "name": "stdout",
     "output_type": "stream",
     "text": [
      "The log probability is [[-1125.74647244]]\n"
     ]
    }
   ],
   "source": [
    "from math import pi\n",
    "from numpy import sqrt\n",
    "import scipy.special\n",
    "\n",
    "weights = np.zeros((1,26))\n",
    "sigma = 1\n",
    "covariance_matrix = (sigma**2)*np.identity(np.shape(weights)[1])\n",
    "\n",
    "def log_prob(w,x,y,p,cov):\n",
    "    term1_weight = -p/2*np.log((2*pi)) - 1/2*np.log((np.linalg.det(cov)))\n",
    "    term2_weight = -(1/2)*np.dot(np.dot(w,np.linalg.inv(cov)),w.T)\n",
    "    \n",
    "    xwt = np.dot(x,w.T)\n",
    "    \n",
    "    term1_pois = -np.sum(np.exp(xwt)) \n",
    "    term2_pois = y@xwt\n",
    "    term3_pois = -np.sum(np.log(scipy.special.factorial(y)))\n",
    "   \n",
    "    \n",
    "    return  term1_pois + term2_pois +term3_pois +term1_weight +term2_weight\n",
    "\n",
    "Part2b_answer = log_prob(weights, x_train, y_train,26, covariance_matrix)\n",
    "print(\"The log probability is {}\".format(Part2b_answer))"
   ]
  },
  {
   "cell_type": "markdown",
   "metadata": {
    "id": "cVygVMCsjKwq"
   },
   "source": [
    "## Problem 3a [Math]: Derive the gradient\n",
    "Derive the gradient of the log joint probability\n",
    "\\begin{align}\n",
    "\\nabla_w \\mathcal{L}(w) &= \\ldots\n",
    "\\end{align}\n",
    "*Show your work*."
   ]
  },
  {
   "cell_type": "markdown",
   "metadata": {},
   "source": [
    "From part 2a, we had the log joint probability as\n",
    "\\begin{equation}\n",
    "\\mathcal{L}(w) = \\log p(\\{y_n\\}_{n=1}^N, w \\mid \\{x_n\\}_{n=1}^N, \\sigma^2) = \\sum_{n=1}^N \\left( -e^{w^Tx_n} +(w^Tx_n)y_n - logy_{n}!\\right)+ log (2\\pi)^{-p/2} det(\\sigma^2I)^{-\\frac{1}{2}} -\\frac{1}{2}w^T(\\sigma^2I)^{-1}w   \n",
    "\\end{equation}\n",
    "\n",
    "Now we take the gradient:\n",
    "\n",
    "\\begin{equation}\n",
    "\\nabla_w \\mathcal{L}(w) = \\nabla_w \\left(\\sum_{n=1}^N \\left( -e^{w^Tx_n} +(w^Tx_n)y_n - logy_{n}!\\right)+ log (2\\pi)^{-p/2} det(\\sigma^2I)^{-\\frac{1}{2}} -\\frac{1}{2}w^T(\\sigma^2I)^{-1}w \\right)\n",
    "\\end{equation}\n",
    "\n",
    "First, let's distribute the gradient:\n",
    "\\begin{equation}\n",
    "\\nabla_w \\mathcal{L}(w)= \\nabla_w \\sum_{n=1}^N \\left( -e^{w^Tx_n} +(w^Tx_n)y_n - logy_{n}! \\right) + \\nabla_w \\left(log (2\\pi)^{-p/2} det(\\sigma^2I)^{-\\frac{1}{2}} \\right) - \\nabla_w \\left( \\frac{1}{2}w^T(\\sigma^2I)^{-1}w \\right)\n",
    "\\end{equation}\n",
    "\n",
    "The terms without $w$ disappear:\n",
    "\n",
    "\\begin{equation}\n",
    "\\nabla_w \\mathcal{L}(w)= \\nabla_w \\sum_{n=1}^N \\left( -e^{w^Tx_n} +(w^Tx_n)y_n \\right) + - \\nabla_w \\left( \\frac{1}{2}w^T(\\sigma^2I)^{-1}w \\right)\n",
    "\\end{equation}\n",
    "\n",
    "After taking the derivative, we are left with the following expression for $\\nabla_w \\mathcal{L}(w)$\n",
    "\n",
    "\n",
    "\\begin{equation}\n",
    "\\nabla_w \\mathcal{L}(w)=  \\sum_{n=1}^N \\left( -x_ne^{w^Tx_n} +x_ny_n \\right) - (\\sigma^2I)^{-1}w\n",
    "\\end{equation}"
   ]
  },
  {
   "cell_type": "markdown",
   "metadata": {
    "id": "ETPTUFhe4ZB-"
   },
   "source": [
    "## Problem 3b [Code]: Implement the gradient\n",
    "\n",
    "Write a function to compute the gradient wrt $w$ of the log probability for given values of $w$ and evaluate it on the training set at $w=(0, \\ldots, 0) \\in \\mathbb{R}^{P}$ and $\\sigma^2 = 1$. **Print your result.**\n",
    "\n",
    "**Note:**  While this is not required in this homework, it may be helpful to do numerical checks for gradient and Hessian calculations using finite differences.  See *e.g.* Section 4.2 of https://cilvr.cs.nyu.edu/diglib/lsml/bottou-sgd-tricks-2012.pdf.\n",
    "\n",
    "\n",
    " "
   ]
  },
  {
   "cell_type": "code",
   "execution_count": 10,
   "metadata": {
    "colab": {
     "base_uri": "https://localhost:8080/"
    },
    "id": "5WyzqpOj4jpD",
    "outputId": "1a74c035-11ce-4b04-9391-7e77e50012cf"
   },
   "outputs": [
    {
     "name": "stdout",
     "output_type": "stream",
     "text": [
      "The gradient with respect to w of the log joint probability is [-603.      7.2    18.24   44.64  119.04  145.44   64.32  -51.84  -59.04\n",
      "  -44.64  -44.16  -47.52  -54.24  -33.12  -27.84  -50.4   -48.    -34.08\n",
      "  -50.88  -38.88  -22.08  -37.44  -29.76  -11.04    2.4     1.92]\n"
     ]
    }
   ],
   "source": [
    "p=26\n",
    "def grad_log_prob(x,w,y,cov,p):\n",
    "    cov_inv_w = -np.dot(np.linalg.inv(cov),w.T)\n",
    "    xwt = np.dot(x,w.T)\n",
    "    x_ewx = -np.dot(x.T,np.exp(xwt))\n",
    "    xy = np.reshape(np.sum(np.multiply(x.T,y), axis = 1), (p,1))\n",
    "    sumofterms = np.reshape((cov_inv_w + x_ewx +xy), (26,))\n",
    "    return sumofterms\n",
    "\n",
    "Part3b_answer = grad_log_prob(x_train, weights, y_train, covariance_matrix, p)\n",
    "print(\"The gradient with respect to w of the log joint probability is {}\".format(Part3b_answer))\n"
   ]
  },
  {
   "cell_type": "markdown",
   "metadata": {
    "id": "VTYZnoVtjd16"
   },
   "source": [
    "## Problem 4a [Math]: Derive the Hessian\n",
    "Derive the Hessian of the log joint probability\n",
    "\\begin{align}\n",
    "\\nabla^2_w \\mathcal{L}(w) &= \\ldots\n",
    "\\end{align}\n",
    "*Show your work*."
   ]
  },
  {
   "cell_type": "markdown",
   "metadata": {},
   "source": [
    "We can rewrite $\\nabla^2_w \\mathcal{L}(w)$ as \n",
    "\n",
    "\\begin{equation}\n",
    "\\nabla_w (\\nabla_w \\mathcal{L}(w))= \\nabla_w \\left( \\sum_{n=1}^N \\left( -x_ne^{w^Tx_n} +x_ny_n \\right) - (\\sigma^2I)^{-1}w \\right)\n",
    "\\end{equation}\n",
    "\n",
    "Distributing the gradient, we get:\n",
    "\n",
    "\\begin{equation}\n",
    "\\nabla^2_w \\mathcal{L}(w)= \\nabla_w \\left( \\sum_{n=1}^N -x_ne^{w^Tx_n} +x_ny_n \\right) - \\nabla_w(\\sigma^2I)^{-1}w \n",
    "\\end{equation}\n",
    "\n",
    "Applying the gradient with respect to $w$, we simplify to the following expression:\n",
    "\n",
    "\\begin{equation}\n",
    "\\nabla^2_w \\mathcal{L}(w)= \\sum_{n=1}^N -e^{w^Tx_n}x_nx_n^T - (\\sigma^2I)^{-1} = -\\left(\\sum_{n=1}^N e^{w^Tx_n}x_nx_n^T + (\\sigma^2I)^{-1} \\right)\n",
    "\\end{equation}"
   ]
  },
  {
   "cell_type": "markdown",
   "metadata": {
    "id": "X5fakfY8tq-2"
   },
   "source": [
    "## Problem 4b [Code]: Implement the Hessian\n",
    "\n",
    "Write a function to compute the Hessian of the log probability for given values of $w$ and $\\sigma^2$ and evaluate it on the training set at $w=(0, \\ldots, 0) \\in \\mathbb{R}^{P}$ and $\\sigma^2 = 1$. \n",
    "\n",
    "Visualize the Hessian with, e.g., `imshow`. Don't forget labels and a colorbar."
   ]
  },
  {
   "cell_type": "code",
   "execution_count": 11,
   "metadata": {
    "colab": {
     "base_uri": "https://localhost:8080/",
     "height": 282
    },
    "id": "zavTkSX7jdPr",
    "outputId": "308eb135-684d-4fa3-e798-2f9b707544f2"
   },
   "outputs": [
    {
     "data": {
      "image/png": "[encoded data removed]",
      "text/plain": [
       "<Figure size 432x288 with 2 Axes>"
      ]
     },
     "metadata": {
      "needs_background": "light"
     },
     "output_type": "display_data"
    }
   ],
   "source": [
    "weights = np.zeros((1,26))\n",
    "sigma = 1\n",
    "covariance_matrix = (sigma**2)*np.identity(np.shape(weights)[1])\n",
    "def hessian_of_log(w,x,cov):\n",
    "    \n",
    "    ewx_x2 = np.dot(np.multiply(x, np.exp(np.multiply(w, x))).T, x)\n",
    "    testingterm = np.dot(np.multiply(x.T,np.exp(np.dot(w,x.T))),x)\n",
    "    return -(testingterm + np.linalg.inv(cov))\n",
    "   \n",
    "Part4b_answer = hessian_of_log(weights, x_train, covariance_matrix)\n",
    "\n",
    "plot_4b = plt.imshow(Part4b_answer)\n",
    "plt.colorbar(plot_4b)\n",
    "plt.xlabel('covariates')\n",
    "plt.ylabel('covariates')\n",
    "plt.show()\n",
    "\n"
   ]
  },
  {
   "cell_type": "markdown",
   "metadata": {
    "id": "WopEXKsQytU9"
   },
   "source": [
    "## Problem 5: Compute the Laplace approximation\n",
    "\n",
    "This problem has two parts. See below."
   ]
  },
  {
   "cell_type": "markdown",
   "metadata": {
    "id": "lGbmGp0Y-o9K"
   },
   "source": [
    "## Problem 5a: Optimize to find the posterior mode\n",
    "Optimize the log joint probability to find the posterior mode. You may use built-in optimization libraries (e.g. `scipy.optimize.minimize`)."
   ]
  },
  {
   "cell_type": "code",
   "execution_count": 12,
   "metadata": {
    "id": "aiGmUMUX9viz"
   },
   "outputs": [
    {
     "name": "stdout",
     "output_type": "stream",
     "text": [
      "[-1.98387939  0.01916075  0.13772378  0.44424193  1.54388209  2.25596694\n",
      "  0.73980468 -0.53345776 -0.52035018 -0.45324572 -0.41421397 -0.24945071\n",
      " -0.47640207 -0.32471352 -0.14218625 -0.26219344 -0.19492639 -0.06752138\n",
      " -0.13640138 -0.02965944  0.13819378 -0.06414581  0.03259865 -0.01427331\n",
      " -0.01652952 -0.05321334]\n"
     ]
    }
   ],
   "source": [
    "from scipy.optimize import minimize\n",
    "def log_prob_foropt(w):\n",
    "    return -log_prob(w,x_train,y_train,p,covariance_matrix)\n",
    "\n",
    "\n",
    "\n",
    "def grad_log_prob_foropt(w):\n",
    "    return -grad_log_prob(x_train,w,y_train,covariance_matrix,p)\n",
    "\n",
    "def hessian_of_log_foropt(w):\n",
    "    return -hessian_of_log(w,x_train,covariance_matrix)\n",
    "\n",
    "optimal_result = scipy.optimize.minimize(log_prob_foropt, x0=np.random.rand(p))\n",
    "\n",
    "print(optimal_result.x)"
   ]
  },
  {
   "cell_type": "markdown",
   "metadata": {
    "id": "WqpNgTDl-iWj"
   },
   "source": [
    "## Problem 5b: Approximate the covariance at the mode\n",
    "\n",
    "Solve for $\\Sigma_{\\mathsf{MAP}} = -[\\nabla^2(\\mathcal{L}(w_{\\mathsf{MAP}})]^{-1}$. Plot the covariance matrix (e.g. with `imshow`). Don't forget to add a colorbar and labels."
   ]
  },
  {
   "cell_type": "code",
   "execution_count": 13,
   "metadata": {
    "colab": {
     "base_uri": "https://localhost:8080/",
     "height": 282
    },
    "id": "t4zcvcy--hrv",
    "outputId": "2ab4e177-1f7d-4b57-d30b-992fc62bc14e"
   },
   "outputs": [
    {
     "data": {
      "image/png": "[encoded data removed]",
      "text/plain": [
       "<Figure size 432x288 with 2 Axes>"
      ]
     },
     "metadata": {
      "needs_background": "light"
     },
     "output_type": "display_data"
    }
   ],
   "source": [
    "opt_res = optimal_result.x\n",
    "opt_res = np.reshape(opt_res, (26,1)).T\n",
    "cov_map = -np.linalg.inv(hessian_of_log(opt_res, x_train, covariance_matrix))\n",
    "\n",
    "\n",
    "plot_5b = plt.imshow(cov_map)\n",
    "plt.colorbar(plot_5b)\n",
    "plt.xlabel('covariates')\n",
    "plt.ylabel('covariates')\n",
    "plt.show()\n"
   ]
  },
  {
   "cell_type": "markdown",
   "metadata": {
    "id": "bD7z6727zr5j"
   },
   "source": [
    "## Problem 6: Plot the posterior of the weights\n",
    "Plot the posterior mean of the weights for features $s_n, \\ldots, s_{n-L+1}$ (i.e. not including the bias term). Also plot 95% credible intervals around the mean by using two standard deviations of the marginal distribution of the weights. Note the diagonal of $\\Sigma_{\\mathsf{MAP}}$ gives the marginal variance of the posterior. "
   ]
  },
  {
   "cell_type": "code",
   "execution_count": 14,
   "metadata": {
    "colab": {
     "base_uri": "https://localhost:8080/",
     "height": 297
    },
    "id": "1nQidaIq-KSy",
    "outputId": "16f09239-c837-429b-ffe9-7cced0931ce2"
   },
   "outputs": [
    {
     "data": {
      "text/plain": [
       "Text(0, 0.5, 'Mean Posterior Weight')"
      ]
     },
     "execution_count": 14,
     "metadata": {},
     "output_type": "execute_result"
    },
    {
     "data": {
      "image/png": "[encoded data removed]",
      "text/plain": [
       "<Figure size 432x288 with 1 Axes>"
      ]
     },
     "metadata": {
      "needs_background": "light"
     },
     "output_type": "display_data"
    }
   ],
   "source": [
    "import seaborn as sns\n",
    "import pandas as pd\n",
    "\n",
    "\n",
    "optimal_weights = np.reshape(optimal_result.x, (26,1))\n",
    "opt_trunc = np.delete(optimal_weights, 0, 0)\n",
    "x_axis_vals = np.reshape(np.array(range(1, 26)), (25,))\n",
    "\n",
    "var_weights = np.reshape(np.diag(cov_map), (26,1))\n",
    "var_weights_trunc = np.delete(var_weights, 0, 0)\n",
    "\n",
    "\n",
    "var_graph = np.reshape((var_weights_trunc), (25,))\n",
    "weights_graph = np.reshape((opt_trunc), (25,))\n",
    "\n",
    "ci = 1.96*(np.sqrt(var_graph))\n",
    "\n",
    "fig, ax3 = plt.subplots()\n",
    "ax3.plot(x_axis_vals, weights_graph)\n",
    "ax3.fill_between(x_axis_vals, (weights_graph-ci), (weights_graph+ci), color='b', alpha=.1)\n",
    "ax3.set_xlabel('Covariates')\n",
    "ax3.set_ylabel('Mean Posterior Weight')\n",
    "\n",
    "\n"
   ]
  },
  {
   "cell_type": "markdown",
   "metadata": {
    "id": "dvlVJ7KR4UoF"
   },
   "source": [
    "## Problem 7 [Short Answer]: Interpret your results\n",
    "\n",
    "Here, the neurons are cells from the retina, which are responsive to light. The stimulus at time bin $n$ is either -0.5 or +0.5 depending on whether a light was off or on, respectively, at that time. What do these weights tell you about the relationship between the stimulus and the spike counts? \n",
    "\n",
    "_Answer below this line_\n",
    "\n",
    "---"
   ]
  },
  {
   "cell_type": "markdown",
   "metadata": {},
   "source": [
    "It seems to show that there is significant response to the stimulus at the time bin labeled 5 which would be 800 milliseconds after being shown the light. This could lead us to believe that neuron response time peaks roughly 800ms after being shown light. We can see that neurons are responding to stimulus before the n-5 mark and that neuron responsiveness drops off sharply after the n-5 mark. Further, the credible intervals are quite narrow in the drop off range, leading us to believe that indeed there is a steep drop off in response about 5 times bins after exposure. The mean response weight levels off after about 8 times bins after the time measure. The confidence intervals also seem to stabilize."
   ]
  },
  {
   "cell_type": "markdown",
   "metadata": {
    "id": "zeBH-7geUXwl"
   },
   "source": [
    "## Problem 8: Approximate the posterior predictive distribution of the rates\n",
    "\n",
    "Draw many samples $w^{(s)}$ from the Laplace approximation of the posterior $p(w \\mid \\{x_n, y_n\\})$.  Use those samples to approximate the posterior predictive distribution on the **test** dataset,\n",
    "\\begin{align}\n",
    "p(y_{n'}=k \\mid x_{n'}, \\{x_n, y_n\\}_{n=1}^N) &= \n",
    "\\int p(y_{n'} \\mid w, x_{n'}) \\, p(w \\mid \\{x_n, y_n\\}_{n=1}^N) \\, \\mathrm{d} w \\\\\n",
    "&\\approx \\frac{1}{S} \\sum_{s=1}^S p(y_{n'}=k \\mid w^{(s)}, x_{n'})\n",
    "\\end{align}\n",
    "where\n",
    "\\begin{align}\n",
    "w^{(s)} &\\sim p(w \\mid \\{x_n, y_n\\}_{n=1}^N \\\\\n",
    "&\\approx \\mathcal{N}(w \\mid w_{\\mathsf{MAP}}, \\Sigma_{\\mathsf{MAP}})\n",
    "\\end{align}\n",
    "\n",
    "Visualize the posterior predictive distribution as an $K \\times N_{\\mathsf{test}}$ array where row corresponds to possible spike counts $k\\in \\{0,\\ldots, K\\}$. You can set $K=5$ for this problem. **Only show the first 100 columns (time bins), otherwise it's hard to see changes in the rate.**\n",
    "\n",
    "Overlay the actual spike counts for the test dataset. "
   ]
  },
  {
   "cell_type": "code",
   "execution_count": 21,
   "metadata": {},
   "outputs": [],
   "source": [
    "from scipy.stats import poisson\n",
    "\n",
    "#creating x_test\n",
    "i=0\n",
    "x_test = np.zeros((N_test, 25))\n",
    "for i in range(N_test):\n",
    "    for j in range(25):\n",
    "        if i-j<0:\n",
    "            x_test[i,j] = 0\n",
    "        else:\n",
    "            x_test[i,j] = stim_test[i-j] \n",
    "\n",
    "ones = np.ones((1000,1))        \n",
    "x_test = np.concatenate((ones, x_test), axis =1)\n",
    "\n",
    "\n",
    "##creating the samples of weight vectors\n",
    "\n",
    "ws = np.random.multivariate_normal(mean = optimal_result.x, cov = cov_map, size = 1000)\n",
    "\n",
    "##doing the matrix calculations\n",
    "temp_a = np.zeros((1000,1))\n",
    "j=0\n",
    "J=100\n",
    "S=1000\n",
    "s=0\n",
    "pred_counts = np.zeros((100,1))\n",
    "for j in range(J):\n",
    "    for s in range(S):\n",
    "        temp_a[s,0] = np.exp(x_test[j,:]@ws[s,:])\n",
    "    pred_counts[j,0] = round(np.sum(temp_a)/S,0)\n",
    "\n"
   ]
  },
  {
   "cell_type": "code",
   "execution_count": 34,
   "metadata": {},
   "outputs": [
    {
     "data": {
      "image/png": "[encoded data removed]",
      "text/plain": [
       "<Figure size 432x288 with 1 Axes>"
      ]
     },
     "metadata": {
      "needs_background": "light"
     },
     "output_type": "display_data"
    }
   ],
   "source": [
    "##plotting the predicted vs acutal counts\n",
    "\n",
    "x_axis_vals8 = np.array(range(1,101))\n",
    "plt.xlabel(\"Time Bin\")\n",
    "plt.ylabel(\"Spike Count\")\n",
    "plt.title(\"Predicted Spikes and Actual Spikes\")\n",
    "plt.plot(x_axis_vals8, pred_counts, label = \"Predicted Spikes\")\n",
    "plt.plot(x_axis_vals8, y_test[0:100,], label = \"Actual Spikes\")\n",
    "plt.ylim([0,5])\n",
    "plt.xlim([0,100])\n",
    "plt.legend()\n",
    "plt.show()"
   ]
  },
  {
   "cell_type": "markdown",
   "metadata": {
    "id": "QOISJfBYqWHs"
   },
   "source": [
    "## Problem 9: Compute the log predictive density\n",
    "\n",
    "Simulate from the posterior distribution to compute a Monte Carlo approximation to what the book calls the _log pointwise predictive density_ (Eq. 7.4). \n",
    "\\begin{align}\n",
    "\\sum_{n'=1}^{N_{\\mathsf{test}}} \\log p(y_{n'} \\mid x_{n'}, \\{x_n, y_n\\}_{n=1}^N ) \n",
    "&= \n",
    "\\sum_{n'=1}^{N_{\\mathsf{test}}} \\log \\int p(y_{n'} \\mid w, x_{n'}) \\, p(w \\mid \\{x_n, y_n\\}_{n=1}^N) \\, \\mathrm{d} w \\\\\n",
    "&\\approx \\sum_{n'=1}^{N_{\\mathsf{test}}} \\log \\frac{1}{S} \\sum_{s=1}^S p(y_{n'}=k \\mid w^{(s)}, x_{n'})\n",
    "\\end{align}\n",
    "where\n",
    "\\begin{align}\n",
    "w^{(s)} &\\sim p(w \\mid \\{x_n, y_n\\}_{n=1}^N) \\\\\n",
    "&\\approx \\mathcal{N}(w \\mid w_{\\mathsf{MAP}}, \\Sigma_{\\mathsf{MAP}})\n",
    "\\end{align}\n",
    "Use $S=1000$ Monte Carlo samples and **print your result**.\n",
    "\n",
    "_Note_: The book recommends a more fully Bayesian approach in which they compute the log pointwise predictive density for one data point at a time, using the remainder to compute the posterior distribution on the weights. For simplicity, we will stick with a single training and test split, as given in the dataset above."
   ]
  },
  {
   "cell_type": "code",
   "execution_count": 61,
   "metadata": {},
   "outputs": [
    {
     "data": {
      "text/plain": [
       "-533.6648719181687"
      ]
     },
     "execution_count": 61,
     "metadata": {},
     "output_type": "execute_result"
    }
   ],
   "source": [
    "\n",
    "S=1000\n",
    "s=0\n",
    "j=0\n",
    "J = 1000\n",
    "\n",
    "temp_9 = np.zeros((S,1))\n",
    "temp_9a = np.zeros((J, 1))\n",
    "\n",
    "\n",
    "for j in range(J):\n",
    "    for s in range(S):\n",
    "        temp_9[s,0] = poisson.pmf(y_test[j-1], mu  = np.exp(x_test[j-1,:]@ws[s-1,:]))\n",
    "    temp_9a[j-1,0] = np.log(np.sum(temp_9)/S)\n",
    "lppd = np.sum(temp_9a)\n",
    "\n",
    "lppd"
   ]
  },
  {
   "cell_type": "markdown",
   "metadata": {
    "id": "Yus6_Zkxu9S9"
   },
   "source": [
    "## Submission Instructions\n",
    "**Formatting:** check that your code does not exceed 80 characters in line width. If you're working in Colab, you can set Tools → Settings → Editor → Vertical ruler column to 80 to see when you've exceeded the limit.\n",
    "\n",
    "Download your notebook in .ipynb format and use the following commands to convert it to PDF:\n",
    "\n",
    "jupyter nbconvert --to pdf hw2_yourname.ipynb\n",
    "\n",
    "**Dependencies:**\n",
    "\n",
    "nbconvert: If you're using Anaconda for package management,\n",
    "conda install -c anaconda nbconvert\n",
    "\n",
    "**Upload** your .ipynb and .pdf files to Gradescope."
   ]
  }
 ],
 "metadata": {
  "anaconda-cloud": {},
  "colab": {
   "collapsed_sections": [],
   "name": "HW2_PoissonGLM.ipynb",
   "provenance": []
  },
  "kernelspec": {
   "display_name": "Python 3",
   "language": "python",
   "name": "python3"
  },
  "language_info": {
   "codemirror_mode": {
    "name": "ipython",
    "version": 3
   },
   "file_extension": ".py",
   "mimetype": "text/x-python",
   "name": "python",
   "nbconvert_exporter": "python",
   "pygments_lexer": "ipython3",
   "version": "3.8.3"
  }
 },
 "nbformat": 4,
 "nbformat_minor": 4
}
